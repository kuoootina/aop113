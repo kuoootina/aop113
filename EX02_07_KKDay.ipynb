{
  "nbformat": 4,
  "nbformat_minor": 0,
  "metadata": {
    "colab": {
      "provenance": [],
      "authorship_tag": "ABX9TyMid8smF5zUAm6d823C2NuN",
      "include_colab_link": true
    },
    "kernelspec": {
      "name": "python3",
      "display_name": "Python 3"
    },
    "language_info": {
      "name": "python"
    }
  },
  "cells": [
    {
      "cell_type": "markdown",
      "metadata": {
        "id": "view-in-github",
        "colab_type": "text"
      },
      "source": [
        "<a href=\"https://colab.research.google.com/github/kuoootina/aop113/blob/main/EX02_07_KKDay.ipynb\" target=\"_parent\"><img src=\"https://colab.research.google.com/assets/colab-badge.svg\" alt=\"Open In Colab\"/></a>"
      ]
    },
    {
      "cell_type": "code",
      "execution_count": 6,
      "metadata": {
        "colab": {
          "base_uri": "https://localhost:8080/"
        },
        "id": "GfAEPYxPceJF",
        "outputId": "e967ad7f-a4be-478b-b73b-e5ca187d99d3"
      },
      "outputs": [
        {
          "output_type": "execute_result",
          "data": {
            "text/plain": [
              "<title>最熱門 東京 住宿 - 2025 更新 - KKday</title>"
            ]
          },
          "metadata": {},
          "execution_count": 6
        }
      ],
      "source": [
        "import requests\n",
        "from bs4 import BeautifulSoup\n",
        "\n",
        "url = 'https://www.kkday.com/zh-tw/category/jp-tokyo/accommodation'\n",
        "\n",
        "headers = {'user-agent': 'Mozilla/5.0 (Windows NT 10.0; Win64; x64) AppleWebKit/537.36 (KHTML, like Gecko) Chrome/134.0.0.0 Safari/537.36'}\n",
        "response = requests.get(url, headers=headers)\n",
        "\n",
        "soup = BeautifulSoup(response.text, 'lxml')\n",
        "soup.title\n"
      ]
    },
    {
      "cell_type": "code",
      "source": [
        "soup.find('h3',class_='product-card_title').text"
      ],
      "metadata": {
        "id": "R0H4fPx_f3TZ",
        "colab": {
          "base_uri": "https://localhost:8080/",
          "height": 144
        },
        "outputId": "c480ab7c-6a85-42fb-ed4f-168b716a2f1c"
      },
      "execution_count": 7,
      "outputs": [
        {
          "output_type": "error",
          "ename": "AttributeError",
          "evalue": "'NoneType' object has no attribute 'text'",
          "traceback": [
            "\u001b[0;31m---------------------------------------------------------------------------\u001b[0m",
            "\u001b[0;31mAttributeError\u001b[0m                            Traceback (most recent call last)",
            "\u001b[0;32m<ipython-input-7-8903a0d58b6f>\u001b[0m in \u001b[0;36m<cell line: 0>\u001b[0;34m()\u001b[0m\n\u001b[0;32m----> 1\u001b[0;31m \u001b[0msoup\u001b[0m\u001b[0;34m.\u001b[0m\u001b[0mfind\u001b[0m\u001b[0;34m(\u001b[0m\u001b[0;34m'h3'\u001b[0m\u001b[0;34m,\u001b[0m\u001b[0mclass_\u001b[0m\u001b[0;34m=\u001b[0m\u001b[0;34m'product-card_title'\u001b[0m\u001b[0;34m)\u001b[0m\u001b[0;34m.\u001b[0m\u001b[0mtext\u001b[0m\u001b[0;34m\u001b[0m\u001b[0;34m\u001b[0m\u001b[0m\n\u001b[0m",
            "\u001b[0;31mAttributeError\u001b[0m: 'NoneType' object has no attribute 'text'"
          ]
        }
      ]
    },
    {
      "cell_type": "code",
      "source": [
        "import requests\n",
        "url = 'https://www.kkday.com/zh-tw/category/ajax_get_top_products?productCategory=CATEGORY_078&destination=D-JP-3261'\n",
        "headers = {'user-agent': 'Mozilla/5.0 (Windows NT 10.0; Win64; x64) AppleWebKit/537.36 (KHTML, like Gecko) Chrome/134.0.0.0 Safari/537.36'}\n",
        "response = requests.get(url,headers=headers)\n",
        "hotels = response.json()\n",
        "hotels['data'][0]"
      ],
      "metadata": {
        "colab": {
          "base_uri": "https://localhost:8080/"
        },
        "id": "lzt_Ze6pBN7p",
        "outputId": "7b5ade21-0987-43b4-d18b-2dddfe2d42b5"
      },
      "execution_count": 10,
      "outputs": [
        {
          "output_type": "execute_result",
          "data": {
            "text/plain": [
              "{'id': 187184,\n",
              " 'prod_oid': 187184,\n",
              " 'name': '秋葉原灣膠囊旅館',\n",
              " 'introduction': '秋葉原灣膠囊旅館,專為女性設計的膠囊住宿,安全舒適。即刻預訂,享受便捷的秋葉原之行!',\n",
              " 'rating_count': 1,\n",
              " 'rating_star': 5,\n",
              " 'order_count': 3,\n",
              " 'show_order_count': '',\n",
              " 'confirm_hour': 0,\n",
              " 'instant_booking': True,\n",
              " 'instant_use': True,\n",
              " 'free_refund_policy': True,\n",
              " 'free_refund_before_day': 8,\n",
              " 'earliest_sale_date': '20250401',\n",
              " 'sale_status': '1',\n",
              " 'purchase_type': None,\n",
              " 'purchase_date': None,\n",
              " 'is_tourism_product': True,\n",
              " 'readable_url': None,\n",
              " 'main_cat_key': 'M01',\n",
              " 'product_category': {'main': 'CATEGORY_078', 'sub': []},\n",
              " 'promo_tag_keys': [],\n",
              " 'cat_key': ['TAG_6_1'],\n",
              " 'theme_code': [],\n",
              " 'product_labels': [],\n",
              " 'img_url': 'https://image.kkday.com/image/get/w_600%2Cc_fit/s1.kkday.com/product_187184/20241002060713_qgqsZ/png',\n",
              " 'img_url_list': ['https://image.kkday.com/image/get/w_600%2Cc_fit/s1.kkday.com/product_187184/20241002060713_qgqsZ/png',\n",
              "  'https://image.kkday.com/image/get/w_600%2Cc_fit/s1.kkday.com/product_187184/20241002060713_bcMlR/png',\n",
              "  'https://image.kkday.com/image/get/w_600%2Cc_fit/s1.kkday.com/product_187184/20241002060713_eurcs/png',\n",
              "  'https://image.kkday.com/image/get/w_600%2Cc_fit/s1.kkday.com/product_187184/20241002060713_ilEHo/png',\n",
              "  'https://image.kkday.com/image/get/w_600%2Cc_fit/s1.kkday.com/product_187184/20241002060713_e1tGc/png'],\n",
              " 'duration': 0,\n",
              " 'days': 0,\n",
              " 'hours': 0,\n",
              " 'minutes': 0,\n",
              " 'currency': 'TWD',\n",
              " 'display_sale_price': '1,167',\n",
              " 'sale_price': 1167,\n",
              " 'display_price': '1,167',\n",
              " 'price': 1167,\n",
              " 'discount': 0,\n",
              " 'is_display_price': False,\n",
              " 'app_cheaper_than_web': False,\n",
              " 'max_price': 2313,\n",
              " 'countries': [{'id': 'A01-003',\n",
              "   'name': '日本',\n",
              "   'cities': [{'id': 'A01-003-99999', 'name': '所有城市'},\n",
              "    {'id': 'A01-003-00001', 'name': '東京'}]}],\n",
              " 'is_marketplace': False,\n",
              " 'supplier_oid_list': ['21011'],\n",
              " 'supplier_name': None,\n",
              " 'supplier_logo': None,\n",
              " 'supplier_award': 0,\n",
              " 'supplier_badge': 0,\n",
              " 'is_zero_price': False,\n",
              " 'destinations': [{'code': 'D-JP-3261', 'name': '東京'},\n",
              "  {'code': 'D-JP-3218', 'name': '關東'},\n",
              "  {'code': 'D-JP-112', 'name': '日本'}]}"
            ]
          },
          "metadata": {},
          "execution_count": 10
        }
      ]
    },
    {
      "cell_type": "code",
      "source": [
        "\n",
        "hotels['data'][0]"
      ],
      "metadata": {
        "id": "8qsn7iGyChRB",
        "outputId": "ba1b4cf6-7c7e-4377-e5ad-f6e0e13246ce",
        "colab": {
          "base_uri": "https://localhost:8080/"
        }
      },
      "execution_count": 11,
      "outputs": [
        {
          "output_type": "execute_result",
          "data": {
            "text/plain": [
              "{'id': 187184,\n",
              " 'prod_oid': 187184,\n",
              " 'name': '秋葉原灣膠囊旅館',\n",
              " 'introduction': '秋葉原灣膠囊旅館,專為女性設計的膠囊住宿,安全舒適。即刻預訂,享受便捷的秋葉原之行!',\n",
              " 'rating_count': 1,\n",
              " 'rating_star': 5,\n",
              " 'order_count': 3,\n",
              " 'show_order_count': '',\n",
              " 'confirm_hour': 0,\n",
              " 'instant_booking': True,\n",
              " 'instant_use': True,\n",
              " 'free_refund_policy': True,\n",
              " 'free_refund_before_day': 8,\n",
              " 'earliest_sale_date': '20250401',\n",
              " 'sale_status': '1',\n",
              " 'purchase_type': None,\n",
              " 'purchase_date': None,\n",
              " 'is_tourism_product': True,\n",
              " 'readable_url': None,\n",
              " 'main_cat_key': 'M01',\n",
              " 'product_category': {'main': 'CATEGORY_078', 'sub': []},\n",
              " 'promo_tag_keys': [],\n",
              " 'cat_key': ['TAG_6_1'],\n",
              " 'theme_code': [],\n",
              " 'product_labels': [],\n",
              " 'img_url': 'https://image.kkday.com/image/get/w_600%2Cc_fit/s1.kkday.com/product_187184/20241002060713_qgqsZ/png',\n",
              " 'img_url_list': ['https://image.kkday.com/image/get/w_600%2Cc_fit/s1.kkday.com/product_187184/20241002060713_qgqsZ/png',\n",
              "  'https://image.kkday.com/image/get/w_600%2Cc_fit/s1.kkday.com/product_187184/20241002060713_bcMlR/png',\n",
              "  'https://image.kkday.com/image/get/w_600%2Cc_fit/s1.kkday.com/product_187184/20241002060713_eurcs/png',\n",
              "  'https://image.kkday.com/image/get/w_600%2Cc_fit/s1.kkday.com/product_187184/20241002060713_ilEHo/png',\n",
              "  'https://image.kkday.com/image/get/w_600%2Cc_fit/s1.kkday.com/product_187184/20241002060713_e1tGc/png'],\n",
              " 'duration': 0,\n",
              " 'days': 0,\n",
              " 'hours': 0,\n",
              " 'minutes': 0,\n",
              " 'currency': 'TWD',\n",
              " 'display_sale_price': '1,167',\n",
              " 'sale_price': 1167,\n",
              " 'display_price': '1,167',\n",
              " 'price': 1167,\n",
              " 'discount': 0,\n",
              " 'is_display_price': False,\n",
              " 'app_cheaper_than_web': False,\n",
              " 'max_price': 2313,\n",
              " 'countries': [{'id': 'A01-003',\n",
              "   'name': '日本',\n",
              "   'cities': [{'id': 'A01-003-99999', 'name': '所有城市'},\n",
              "    {'id': 'A01-003-00001', 'name': '東京'}]}],\n",
              " 'is_marketplace': False,\n",
              " 'supplier_oid_list': ['21011'],\n",
              " 'supplier_name': None,\n",
              " 'supplier_logo': None,\n",
              " 'supplier_award': 0,\n",
              " 'supplier_badge': 0,\n",
              " 'is_zero_price': False,\n",
              " 'destinations': [{'code': 'D-JP-3261', 'name': '東京'},\n",
              "  {'code': 'D-JP-3218', 'name': '關東'},\n",
              "  {'code': 'D-JP-112', 'name': '日本'}]}"
            ]
          },
          "metadata": {},
          "execution_count": 11
        }
      ]
    },
    {
      "cell_type": "code",
      "source": [
        "from IPython.display import Image, display\n",
        "\n",
        "\n",
        "for hotel in hotels['data']:\n",
        "   hotel['name'],hotel['rating_star'],hotel['sale_price']\n",
        "   print(hotel['introduction'])\n",
        "   display(Image(url=hotel['img_url']))\n",
        "   print()"
      ],
      "metadata": {
        "id": "y6w6VKBTFCou",
        "outputId": "f45f5d9d-24a6-459a-ae74-e635b185e557",
        "colab": {
          "base_uri": "https://localhost:8080/",
          "height": 1000
        }
      },
      "execution_count": 18,
      "outputs": [
        {
          "output_type": "stream",
          "name": "stdout",
          "text": [
            "秋葉原灣膠囊旅館,專為女性設計的膠囊住宿,安全舒適。即刻預訂,享受便捷的秋葉原之行!\n"
          ]
        },
        {
          "output_type": "display_data",
          "data": {
            "text/html": [
              "<img src=\"https://image.kkday.com/image/get/w_600%2Cc_fit/s1.kkday.com/product_187184/20241002060713_qgqsZ/png\"/>"
            ],
            "text/plain": [
              "<IPython.core.display.Image object>"
            ]
          },
          "metadata": {}
        },
        {
          "output_type": "stream",
          "name": "stdout",
          "text": [
            "\n",
            "APA 飯店 - 京成上野站前,位於上野站前,方便探索東京景點。立即預訂,享受上野的都市便捷!\n"
          ]
        },
        {
          "output_type": "display_data",
          "data": {
            "text/html": [
              "<img src=\"https://image.kkday.com/image/get/w_600%2Cc_fit/s1.kkday.com/product_187328/20241002110220_WNY3P/png\"/>"
            ],
            "text/plain": [
              "<IPython.core.display.Image object>"
            ]
          },
          "metadata": {}
        },
        {
          "output_type": "stream",
          "name": "stdout",
          "text": [
            "\n",
            "APA 飯店 - TKP日暮里站前,位於日暮里站附近,提供現代舒適設施。馬上預訂,享受東京的便捷生活!\n"
          ]
        },
        {
          "output_type": "display_data",
          "data": {
            "text/html": [
              "<img src=\"https://image.kkday.com/image/get/w_600%2Cc_fit/s1.kkday.com/product_186443/20241002071236_4Qxut/png\"/>"
            ],
            "text/plain": [
              "<IPython.core.display.Image object>"
            ]
          },
          "metadata": {}
        },
        {
          "output_type": "stream",
          "name": "stdout",
          "text": [
            "\n",
            "相鐵FRESA INN 東京錦糸町,交通便利,靠近東京站。即刻預訂,體驗東京的繁華生活!\n"
          ]
        },
        {
          "output_type": "display_data",
          "data": {
            "text/html": [
              "<img src=\"https://image.kkday.com/image/get/w_600%2Cc_fit/s1.kkday.com/product_194684/20241009053024_xbVfK/png\"/>"
            ],
            "text/plain": [
              "<IPython.core.display.Image object>"
            ]
          },
          "metadata": {}
        },
        {
          "output_type": "stream",
          "name": "stdout",
          "text": [
            "\n",
            "上野雷索爾飯店,地理位置優越,步行即可達上野動物園,立即預訂,探索東京的多樣魅力!\n"
          ]
        },
        {
          "output_type": "display_data",
          "data": {
            "text/html": [
              "<img src=\"https://image.kkday.com/image/get/w_600%2Cc_fit/s1.kkday.com/product_186425/20241001101639_Cfnpd/png\"/>"
            ],
            "text/plain": [
              "<IPython.core.display.Image object>"
            ]
          },
          "metadata": {}
        },
        {
          "output_type": "stream",
          "name": "stdout",
          "text": [
            "\n",
            "在淺草豪景飯店享受優質服務與迷人景觀,輕鬆到達淺草寺,馬上預訂,體驗東京傳統!\n"
          ]
        },
        {
          "output_type": "display_data",
          "data": {
            "text/html": [
              "<img src=\"https://image.kkday.com/image/get/w_600%2Cc_fit/s1.kkday.com/product_188050/20241003085115_7tDa5/png\"/>"
            ],
            "text/plain": [
              "<IPython.core.display.Image object>"
            ]
          },
          "metadata": {}
        },
        {
          "output_type": "stream",
          "name": "stdout",
          "text": [
            "\n",
            "上野御徒町超級飯店,靠近上野公園和博物館,便捷至東京主要景點,立即預訂,享受便利住宿!\n"
          ]
        },
        {
          "output_type": "display_data",
          "data": {
            "text/html": [
              "<img src=\"https://image.kkday.com/image/get/w_600%2Cc_fit/s1.kkday.com/product_244886/20241006071617_0EYB1/png\"/>"
            ],
            "text/plain": [
              "<IPython.core.display.Image object>"
            ]
          },
          "metadata": {}
        },
        {
          "output_type": "stream",
          "name": "stdout",
          "text": [
            "\n",
            "享受日暮里阿爾蒙特飯店的舒適住宿,便捷至東京主要景點,立即預訂,開啟您的東京之旅!\n"
          ]
        },
        {
          "output_type": "display_data",
          "data": {
            "text/html": [
              "<img src=\"https://image.kkday.com/image/get/w_600%2Cc_fit/s1.kkday.com/product_193898/20241029064831_EWA64/png\"/>"
            ],
            "text/plain": [
              "<IPython.core.display.Image object>"
            ]
          },
          "metadata": {}
        },
        {
          "output_type": "stream",
          "name": "stdout",
          "text": [
            "\n",
            "Old Tokyo of Nostalgiato the Unfamiliar 從機場線 羽田機場第1、第2航廈站 搭乘普通電車 (40分鐘)\n"
          ]
        },
        {
          "output_type": "display_data",
          "data": {
            "text/html": [
              "<img src=\"https://image.kkday.com/image/get/w_600%2Cc_fit/s1.kkday.com/product_250653/20240930163835_HkOxQ/png\"/>"
            ],
            "text/plain": [
              "<IPython.core.display.Image object>"
            ]
          },
          "metadata": {}
        },
        {
          "output_type": "stream",
          "name": "stdout",
          "text": [
            "\n",
            "Drop-dead night views in food heaven 從東海道新幹線 東京站 搭乘普通電車到山手線 五反田站 (18分鐘), 從山手線 五反田站 步行 (8分鐘)\n"
          ]
        },
        {
          "output_type": "display_data",
          "data": {
            "text/html": [
              "<img src=\"https://image.kkday.com/image/get/w_600%2Cc_fit/s1.kkday.com/product_250652/20240930163806_T8DUz/png\"/>"
            ],
            "text/plain": [
              "<IPython.core.display.Image object>"
            ]
          },
          "metadata": {}
        },
        {
          "output_type": "stream",
          "name": "stdout",
          "text": [
            "\n"
          ]
        }
      ]
    }
  ]
}