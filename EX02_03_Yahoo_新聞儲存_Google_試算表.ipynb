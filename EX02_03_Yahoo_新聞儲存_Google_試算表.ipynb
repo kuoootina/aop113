{
  "nbformat": 4,
  "nbformat_minor": 0,
  "metadata": {
    "colab": {
      "provenance": [],
      "authorship_tag": "ABX9TyMUx2X+6Dh5qO+X+2sml2sM",
      "include_colab_link": true
    },
    "kernelspec": {
      "name": "python3",
      "display_name": "Python 3"
    },
    "language_info": {
      "name": "python"
    }
  },
  "cells": [
    {
      "cell_type": "markdown",
      "metadata": {
        "id": "view-in-github",
        "colab_type": "text"
      },
      "source": [
        "<a href=\"https://colab.research.google.com/github/kuoootina/aop113/blob/main/EX02_03_Yahoo_%E6%96%B0%E8%81%9E%E5%84%B2%E5%AD%98_Google_%E8%A9%A6%E7%AE%97%E8%A1%A8.ipynb\" target=\"_parent\"><img src=\"https://colab.research.google.com/assets/colab-badge.svg\" alt=\"Open In Colab\"/></a>"
      ]
    },
    {
      "cell_type": "code",
      "execution_count": 1,
      "metadata": {
        "colab": {
          "base_uri": "https://localhost:8080/"
        },
        "id": "HJXT7HKa_ETx",
        "outputId": "e11022d4-cfa4-4de3-b2b9-191e698e4e7a"
      },
      "outputs": [
        {
          "output_type": "stream",
          "name": "stdout",
          "text": [
            "  Preparing metadata (setup.py) ... \u001b[?25l\u001b[?25hdone\n",
            "\u001b[?25l   \u001b[90m━━━━━━━━━━━━━━━━━━━━━━━━━━━━━━━━━━━━━━━━\u001b[0m \u001b[32m0.0/81.3 kB\u001b[0m \u001b[31m?\u001b[0m eta \u001b[36m-:--:--\u001b[0m\r\u001b[2K   \u001b[90m━━━━━━━━━━━━━━━━━━━━━━━━━━━━━━━━━━━━━━━━\u001b[0m \u001b[32m81.3/81.3 kB\u001b[0m \u001b[31m3.0 MB/s\u001b[0m eta \u001b[36m0:00:00\u001b[0m\n",
            "\u001b[?25h  Building wheel for sgmllib3k (setup.py) ... \u001b[?25l\u001b[?25hdone\n"
          ]
        }
      ],
      "source": [
        "!pip install feedparser -q"
      ]
    },
    {
      "cell_type": "code",
      "source": [
        "import feedparser\n",
        "feed_url = \"https://tw.news.yahoo.com/rss\"\n",
        "feed_data = feedparser.parse(feed_url)"
      ],
      "metadata": {
        "id": "KqB6A1hH_T79"
      },
      "execution_count": 2,
      "outputs": []
    },
    {
      "cell_type": "code",
      "source": [
        "# 引入相關模組\n",
        "from google.colab import auth\n",
        "from google.auth import default\n",
        "import gspread\n",
        "\n",
        "auth.authenticate_user() # 進行授權\n",
        "creds, _ = default() # 使用 default 方法獲取驗證信息\n",
        "gc = gspread.authorize(creds) # 使用 creds 變數授權 gspread 模組"
      ],
      "metadata": {
        "id": "c2JC-xyE_kD0"
      },
      "execution_count": 3,
      "outputs": []
    },
    {
      "cell_type": "code",
      "source": [
        "# 開啟 Google 試算表\n",
        "url = 'https://docs.google.com/spreadsheets/d/1JZmU9I62t3TDRtxYKem360oOiz3PyPQhM7kEg-koYW8/edit?gid=0#gid=0'\n",
        "workbook = gc.open_by_url(url)\n",
        "\n",
        "# 獲取工作簿中索引為 0 的工作表，並將其儲存在 sheet 變數中\n",
        "sheet = workbook.get_worksheet(0)\n",
        "\n",
        "# 新增一列資料\n",
        "sheet.append_row([ 'title' , 'summary' , 'link' ])\n",
        "for entry in feed_data.entries:\n",
        "  sheet.append_row([ entry.title , entry.summary , entry.link ])"
      ],
      "metadata": {
        "id": "JOOo6IgT_tsM"
      },
      "execution_count": 4,
      "outputs": []
    }
  ]
}