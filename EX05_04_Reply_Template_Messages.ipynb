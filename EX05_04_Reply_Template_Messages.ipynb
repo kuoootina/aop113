{
  "nbformat": 4,
  "nbformat_minor": 0,
  "metadata": {
    "colab": {
      "provenance": [],
      "authorship_tag": "ABX9TyMXSLTS9cEa23wLyiNzd+5E",
      "include_colab_link": true
    },
    "kernelspec": {
      "name": "python3",
      "display_name": "Python 3"
    },
    "language_info": {
      "name": "python"
    }
  },
  "cells": [
    {
      "cell_type": "markdown",
      "metadata": {
        "id": "view-in-github",
        "colab_type": "text"
      },
      "source": [
        "<a href=\"https://colab.research.google.com/github/kuoootina/aop113/blob/main/EX05_04_Reply_Template_Messages.ipynb\" target=\"_parent\"><img src=\"https://colab.research.google.com/assets/colab-badge.svg\" alt=\"Open In Colab\"/></a>"
      ]
    },
    {
      "cell_type": "code",
      "execution_count": 1,
      "metadata": {
        "colab": {
          "base_uri": "https://localhost:8080/"
        },
        "id": "Sv_cfsZbRI30",
        "outputId": "7ab9dd93-d24c-4d7d-9799-d635525bab2a"
      },
      "outputs": [
        {
          "output_type": "stream",
          "name": "stdout",
          "text": [
            "\u001b[2K   \u001b[90m━━━━━━━━━━━━━━━━━━━━━━━━━━━━━━━━━━━━━━━━\u001b[0m \u001b[32m776.1/776.1 kB\u001b[0m \u001b[31m8.7 MB/s\u001b[0m eta \u001b[36m0:00:00\u001b[0m\n",
            "\u001b[2K   \u001b[90m━━━━━━━━━━━━━━━━━━━━━━━━━━━━━━━━━━━━━━━━\u001b[0m \u001b[32m165.6/165.6 kB\u001b[0m \u001b[31m7.2 MB/s\u001b[0m eta \u001b[36m0:00:00\u001b[0m\n",
            "\u001b[?25h"
          ]
        }
      ],
      "source": [
        "!pip install -q pyngrok flask_ngrok # for colab\n",
        "!pip install -q flask line-bot-sdk"
      ]
    },
    {
      "cell_type": "code",
      "source": [
        "# for colab\n",
        "from google.colab import userdata\n",
        "from pyngrok import ngrok\n",
        "from flask_ngrok import run_with_ngrok\n",
        "def ngrok_start():\n",
        "    ngrok.set_auth_token(userdata.get('NGROK_AUTHTOKEN'))\n",
        "    ngrok.connect(5000)\n",
        "    run_with_ngrok(app)\n",
        "\n",
        "from flask import Flask, request, abort\n",
        "\n",
        "from linebot.v3 import WebhookHandler\n",
        "from linebot.v3.exceptions import InvalidSignatureError\n",
        "from linebot.v3.webhooks import MessageEvent, TextMessageContent\n",
        "from linebot.v3.messaging import (\n",
        "    Configuration, ApiClient, MessagingApi,\n",
        "    ReplyMessageRequest,\n",
        "    TextMessage,\n",
        "    TemplateMessage, ConfirmTemplate, MessageAction,\n",
        "    CarouselTemplate,\n",
        "    CarouselColumn,\n",
        "    URIAction,\n",
        "    PostbackAction\n",
        ")\n",
        "\n",
        "app = Flask(__name__)\n",
        "\n",
        "@app.route(\"/\", methods=['GET'])\n",
        "def index():\n",
        "    return \"hello\"\n",
        "\n",
        "configuration = Configuration(access_token=userdata.get('LINE_CHANNEL_ACCESS_TOKEN'))\n",
        "handler = WebhookHandler(userdata.get('LINE_CHANNEL_SECRET'))\n",
        "\n",
        "@app.route(\"/callback\", methods=['POST'])\n",
        "def callback():\n",
        "    signature = request.headers['X-Line-Signature']\n",
        "    body = request.get_data(as_text=True)\n",
        "    try:\n",
        "        handler.handle(body, signature)\n",
        "    except InvalidSignatureError:\n",
        "        abort(400)\n",
        "    return 'OK'\n",
        "\n",
        "\n",
        "@handler.add(MessageEvent, message=TextMessageContent)\n",
        "def handle_message(event):\n",
        "    with ApiClient(configuration) as api_client:\n",
        "        line_bot_api = MessagingApi(api_client)\n",
        "\n",
        "        action = event.message.text\n",
        "        if action == 'confirm':\n",
        "            template=ConfirmTemplate(\n",
        "                  text=\"你確定要進行這個動作嗎？\",\n",
        "                  actions=[\n",
        "                      MessageAction(label=\"是\", text=\"是\"),\n",
        "                      MessageAction(label=\"否\", text=\"否\")\n",
        "                  ]\n",
        "                )\n",
        "            reply = TemplateMessage(\n",
        "                alt_text=\"這是確認視窗\",\n",
        "                template=template\n",
        "        )\n",
        "        elif action == 'carousel':\n",
        "          carousel_template = CarouselTemplate(\n",
        "              columns=[\n",
        "                  CarouselColumn(\n",
        "                      thumbnail_image_url='https://example.com/image1.jpg',\n",
        "                      title='商品 A',\n",
        "                      text='這是商品 A 的描述，價格 $100。',\n",
        "                      actions=[\n",
        "                          URIAction(label='查看詳情', uri='https://example.com/productA'),\n",
        "                          MessageAction(label=\"投票\", text=\"我投商品A一票\")\n",
        "                      ]\n",
        "                ),\n",
        "                  CarouselColumn(\n",
        "                      thumbnail_image_url='https://example.com/image2.jpg',\n",
        "                      title='商品 B',\n",
        "                      text='這是商品 B 的描述，價格 $100。',\n",
        "                      actions=[\n",
        "                          URIAction(label='查看詳情', uri='https://example.com/productB'),\n",
        "                          MessageAction(label=\"投票\", text=\"我投商品B一票\")\n",
        "                      ]\n",
        "                )\n",
        "            ]\n",
        "          )\n",
        "          reply = TemplateMessage(\n",
        "              alt_text=\"這是確認視窗\",\n",
        "              template=CarouselTemplate()\n",
        "          )\n",
        "        else:\n",
        "          reply = TextMessage(text='Please type \"confirm\"!')\n",
        "\n",
        "        line_bot_api.reply_message(\n",
        "            ReplyMessageRequest(\n",
        "                reply_token=event.reply_token,\n",
        "                messages=[\n",
        "                   reply\n",
        "                ]\n",
        "            )\n",
        "        )\n",
        "\n",
        "\n",
        "\n",
        "ngrok_start() # for colab\n",
        "if __name__ == \"__main__\":\n",
        "    app.run()"
      ],
      "metadata": {
        "colab": {
          "base_uri": "https://localhost:8080/"
        },
        "id": "uhzigx8pWlyA",
        "outputId": "fdb62a34-26fc-41b5-b8b3-eaf41903ca92"
      },
      "execution_count": null,
      "outputs": [
        {
          "output_type": "stream",
          "name": "stdout",
          "text": [
            " * Serving Flask app '__main__'\n",
            " * Debug mode: off\n"
          ]
        },
        {
          "output_type": "stream",
          "name": "stderr",
          "text": [
            "INFO:werkzeug:\u001b[31m\u001b[1mWARNING: This is a development server. Do not use it in a production deployment. Use a production WSGI server instead.\u001b[0m\n",
            " * Running on http://127.0.0.1:5000\n",
            "INFO:werkzeug:\u001b[33mPress CTRL+C to quit\u001b[0m\n"
          ]
        },
        {
          "output_type": "stream",
          "name": "stdout",
          "text": [
            " * Running on http://606f-35-221-164-151.ngrok-free.app\n",
            " * Traffic stats available on http://127.0.0.1:4040\n"
          ]
        }
      ]
    }
  ]
}