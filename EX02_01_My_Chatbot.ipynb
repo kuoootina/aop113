{
  "nbformat": 4,
  "nbformat_minor": 0,
  "metadata": {
    "colab": {
      "provenance": [],
      "authorship_tag": "ABX9TyNDrSsoL5c+h93zBQPBVbRq",
      "include_colab_link": true
    },
    "kernelspec": {
      "name": "python3",
      "display_name": "Python 3"
    },
    "language_info": {
      "name": "python"
    }
  },
  "cells": [
    {
      "cell_type": "markdown",
      "metadata": {
        "id": "view-in-github",
        "colab_type": "text"
      },
      "source": [
        "<a href=\"https://colab.research.google.com/github/kuoootina/aop113/blob/main/EX02_01_My_Chatbot.ipynb\" target=\"_parent\"><img src=\"https://colab.research.google.com/assets/colab-badge.svg\" alt=\"Open In Colab\"/></a>"
      ]
    },
    {
      "cell_type": "code",
      "execution_count": 1,
      "metadata": {
        "id": "SpaT-3t7R4oh"
      },
      "outputs": [],
      "source": [
        "from google.colab import userdata\n",
        "import google.generativeai as genai\n",
        "\n",
        "genai.configure(api_key=userdata.get('GOOGLE_API_KEY'))"
      ]
    },
    {
      "cell_type": "code",
      "source": [
        "generate_content_config = {\n",
        "        \"temperature\": 1,\n",
        "        \"max_output_tokens\": 1280,\n",
        "}\n",
        "model = genai.GenerativeModel(\n",
        "    model_name=\"gemini-2.0-flash\",\n",
        "    generation_config=generate_content_config\n",
        ")"
      ],
      "metadata": {
        "id": "8OtdlesYSbzg"
      },
      "execution_count": 3,
      "outputs": []
    },
    {
      "cell_type": "code",
      "source": [
        "from IPython.display import Markdown, display\n",
        "\n",
        "chat = model.start_chat(history=[])\n",
        "\n",
        "while True:\n",
        "    message = input('You:')\n",
        "    if message == 'bye!':     #終止迴圈\n",
        "        break\n",
        "\n",
        "    response = chat.send_message(message) #取得回應\n",
        "    print('Bot:')\n",
        "    display(Markdown(response.text))"
      ],
      "metadata": {
        "colab": {
          "base_uri": "https://localhost:8080/",
          "height": 1000
        },
        "id": "Sxxsv-n9SgpV",
        "outputId": "70b6f67e-c4c8-47a4-b042-6010bab51620"
      },
      "execution_count": null,
      "outputs": [
        {
          "output_type": "stream",
          "name": "stdout",
          "text": [
            "You:hi \n",
            "Bot:\n"
          ]
        },
        {
          "output_type": "display_data",
          "data": {
            "text/plain": [
              "<IPython.core.display.Markdown object>"
            ],
            "text/markdown": "Hi there! How can I help you today?\n"
          },
          "metadata": {}
        },
        {
          "output_type": "stream",
          "name": "stdout",
          "text": [
            "You:how ai work\n",
            "Bot:\n"
          ]
        },
        {
          "output_type": "display_data",
          "data": {
            "text/plain": [
              "<IPython.core.display.Markdown object>"
            ],
            "text/markdown": "Okay, let's break down how AI works. It's a broad topic, but I can give you a good overview.  Essentially, AI aims to make computers perform tasks that typically require human intelligence.  Here's a simplified explanation:\n\n**1. The Core Concept: Learning from Data**\n\nAt the heart of most AI systems is the idea of **learning from data**.  Instead of being explicitly programmed to perform every single task, AI algorithms are designed to identify patterns and relationships in data.  This allows them to make predictions, decisions, or take actions based on what they've learned.\n\n**2. Key Components & Techniques:**\n\n*   **Data:** AI relies heavily on data. The more data an AI system has access to, the better it can learn and perform. This data can be in various forms, such as text, images, audio, video, or numerical data.  The quality of the data is also crucial; \"garbage in, garbage out\" applies here.\n\n*   **Algorithms:** These are the sets of instructions that tell the AI system how to process the data and learn from it. There are many different types of AI algorithms, each suited for different tasks. Some common ones include:\n\n    *   **Machine Learning (ML):** This is a subset of AI that focuses on enabling computers to learn without being explicitly programmed.  Within ML, there are several subcategories:\n        *   **Supervised Learning:** The AI is trained on a labeled dataset, meaning the data includes both the input and the desired output.  For example, training an AI to recognize cats in images would involve showing it many images of cats labeled as \"cat\" and images of other things labeled as \"not cat.\"\n        *   **Unsupervised Learning:** The AI is trained on an unlabeled dataset and has to find patterns and structures on its own.  For example, clustering customers into different groups based on their purchasing behavior.\n        *   **Reinforcement Learning:** The AI learns by interacting with an environment and receiving rewards or penalties for its actions. Think of training a robot to walk by rewarding it for taking steps in the right direction.\n\n    *   **Deep Learning (DL):** This is a subfield of machine learning that uses artificial neural networks with multiple layers (hence \"deep\").  These networks are inspired by the structure of the human brain and are very effective at learning complex patterns from large amounts of data.  DL is behind many recent advances in image recognition, natural language processing, and other areas.\n\n    *   **Rule-Based Systems:** These are simpler AI systems that rely on a set of predefined rules to make decisions.  While not as sophisticated as ML or DL, they can be useful for certain tasks where the rules are well-defined.\n\n*   **Neural Networks:** As mentioned above, these are at the heart of deep learning. They consist of interconnected nodes (neurons) organized in layers.  Data is passed through the network, and the connections between the neurons are adjusted during the learning process to improve the AI's performance.\n\n*   **Training:** This is the process of feeding data into the AI algorithm and allowing it to learn. During training, the algorithm adjusts its internal parameters to minimize errors and improve its accuracy.\n\n*   **Inference:** After the AI has been trained, it can be used to make predictions or decisions on new, unseen data. This is called inference.\n\n**3. A Simplified Example: Image Recognition**\n\nImagine you want to build an AI system that can recognize cats in images. Here's how it might work:\n\n1.  **Data Collection:** You gather a large dataset of images, some containing cats and some not. Each image is labeled accordingly (\"cat\" or \"not cat\").\n\n2.  **Model Selection:** You choose a suitable deep learning model, such as a convolutional neural network (CNN), which is well-suited for image recognition.\n\n3.  **Training:** You feed the labeled images into the CNN. The network analyzes the images and learns to identify features that are characteristic of cats (e.g., pointy ears, whiskers, certain patterns of fur). The network adjusts its internal parameters to improve its ability to distinguish between cat and non-cat images.\n\n4.  **Testing/Validation:** You use a separate set of labeled images (not used during training) to evaluate the AI's performance. This helps you assess how well the AI generalizes to new, unseen images.\n\n5.  **Deployment:** Once you're satisfied with the AI's performance, you can deploy it in a real-world application, such as a smartphone app that can identify cats in photos.\n\n**4. Key Considerations and Challenges:**\n\n*   **Bias:** AI systems can inherit biases from the data they are trained on.  If the data is not representative of the real world, the AI may make unfair or discriminatory decisions.\n*   **Explainability:**  Some AI systems, particularly deep learning models, are difficult to understand. It can be hard to know why they made a particular decision, which can be a problem in situations where transparency is important.  This is often referred to as the \"black box\" problem.\n*   **Data Requirements:**  Many AI algorithms require large amounts of data to train effectively.\n*   **Computational Resources:** Training complex AI models can be computationally expensive, requiring powerful hardware and software.\n*   **Ethical Concerns:**  AI raises a number of ethical concerns, such as job displacement, privacy, and the potential for misuse.\n\n**In Summary:**\n\nAI is a powerful technology that allows computers to learn from data and perform tasks that typically require human intelligence. It relies on a combination of data, algorithms, and computational resources. While AI has the potential to solve many of the world's problems, it is important to be aware of its limitations and ethical implications.\n\n**Do you have any specific areas of AI you'd like to explore in more detail? For example, are you interested in a particular type of AI, a specific application, or the ethical considerations surrounding AI?**  The more specific you are, the more tailored my explanation can be!\n"
          },
          "metadata": {}
        }
      ]
    }
  ]
}